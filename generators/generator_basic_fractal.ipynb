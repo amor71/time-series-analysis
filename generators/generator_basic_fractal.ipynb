{
 "cells": [
  {
   "cell_type": "code",
   "execution_count": 1,
   "metadata": {},
   "outputs": [],
   "source": [
    "%matplotlib inline\n",
    "from random import uniform\n",
    "from math import ceil, floor\n",
    "from dataclasses import dataclass"
   ]
  },
  {
   "cell_type": "code",
   "execution_count": 2,
   "metadata": {},
   "outputs": [],
   "source": [
    "x0 = 0\n",
    "y0 = 0 \n",
    "x1 = 1000/2\n",
    "y1 = 1000/2\n",
    "\n",
    "@dataclass\n",
    "class FractalParams:\n",
    "    break_point1: float = uniform(0.2, 0.7)\n",
    "    break_point2: float = uniform(0.2, 0.7)\n",
    "    up_curve: float = uniform(-0.3, 0.3)"
   ]
  },
  {
   "cell_type": "code",
   "execution_count": 3,
   "metadata": {},
   "outputs": [],
   "source": [
    "def fractal_generator(\n",
    "    x0: int, y0: int, x1: int, y1: int, fractal_params: FractalParams\n",
    ") -> [int, int, int, int]:\n",
    "\n",
    "    x2 = abs(x1 - x0) * fractal_params.break_point1 + x0\n",
    "    x3 = abs(x1 - x2) * fractal_params.break_point2 + x2\n",
    "\n",
    "    m = (y0 - y1) * 1.0 / (x0 - x1)\n",
    "    b = y0 - x0 * m\n",
    "\n",
    "    y2 = (m + fractal_params.up_curve) * x2 + b\n",
    "    y3 = (m - fractal_params.up_curve) * x3 + b\n",
    "\n",
    "    return ceil(x2), ceil(y2), ceil(x3), ceil(y3)\n",
    "\n",
    "\n",
    "def fractal_builder(\n",
    "    x0: int, y0: int, x1: int, y1: int, fractal_params: FractalParams, level: int,\n",
    "):\n",
    "    if level <= 0 or (x0 == x1):\n",
    "        return x0, y0, x1, y1\n",
    "\n",
    "    x2, y2, x3, y3 = fractal_generator(x0, y0, x1, y1, fractal_params)\n",
    "\n",
    "    l1 = fractal_builder(x0, y0, x2, y2, fractal_params, level - 1)\n",
    "    l2 = fractal_builder(x2, y2, x3, y3, fractal_params, level - 1)\n",
    "    l3 = fractal_builder(x3, y3, x1, y1, fractal_params, level - 1)\n",
    "\n",
    "    return l1 + l2 + l3"
   ]
  },
  {
   "cell_type": "code",
   "execution_count": 4,
   "metadata": {},
   "outputs": [],
   "source": [
    "X = fractal_builder(x0, y0, x1, y1, FractalParams(), 10)"
   ]
  },
  {
   "cell_type": "code",
   "execution_count": 5,
   "metadata": {},
   "outputs": [],
   "source": [
    "import csv\n",
    "from datetime import datetime\n",
    "with open(f'../datasets/bf_{datetime.utcnow()}.csv', 'w', newline='') as csvfile:\n",
    "    ds_writer = csv.writer(csvfile, delimiter=',',\n",
    "                            quotechar='|', quoting=csv.QUOTE_MINIMAL)\n",
    "    ds_writer.writerow(X)"
   ]
  },
  {
   "cell_type": "code",
   "execution_count": 6,
   "metadata": {
    "scrolled": true
   },
   "outputs": [
    {
     "data": {
      "image/png": "[encoded data removed]",
      "text/plain": [
       "<Figure size 432x288 with 1 Axes>"
      ]
     },
     "metadata": {},
     "output_type": "display_data"
    }
   ],
   "source": [
    "import matplotlib.pyplot as plt\n",
    "plt.style.use('seaborn-whitegrid')\n",
    "plt.plot(X, color = \"green\")\n",
    "plt.show()"
   ]
  },
  {
   "cell_type": "code",
   "execution_count": 40,
   "metadata": {},
   "outputs": [],
   "source": [
    "import numpy as np\n",
    "ts = np.array(X)"
   ]
  },
  {
   "cell_type": "code",
   "execution_count": 41,
   "metadata": {},
   "outputs": [
    {
     "data": {
      "text/plain": [
       "296.8431652394545"
      ]
     },
     "execution_count": 41,
     "metadata": {},
     "output_type": "execute_result"
    }
   ],
   "source": [
    "ts.mean()"
   ]
  },
  {
   "cell_type": "code",
   "execution_count": 42,
   "metadata": {},
   "outputs": [
    {
     "data": {
      "text/plain": [
       "150.645291292235"
      ]
     },
     "execution_count": 42,
     "metadata": {},
     "output_type": "execute_result"
    }
   ],
   "source": [
    "ts.std()"
   ]
  },
  {
   "cell_type": "code",
   "execution_count": 43,
   "metadata": {},
   "outputs": [],
   "source": [
    "from math import ceil\n",
    "def DDF(series):\n",
    "    return np.histogram(series, bins=int(ceil(max(series))-floor(min(series))), density=True)    \n",
    "\n",
    "def E(series):\n",
    "    x, p = DDF(series)\n",
    "    return sum([x[i] * p[i] for i in range(len(x))])\n",
    "\n",
    "def Var(series): \n",
    "    p, x = DDF(series)\n",
    "    u = E(series)\n",
    "    return sum([p[i] * ((x[i] - u)**2) for i in range(len(p))])"
   ]
  },
  {
   "cell_type": "code",
   "execution_count": 44,
   "metadata": {},
   "outputs": [
    {
     "name": "stdout",
     "output_type": "stream",
     "text": [
      "mu = 296.8430066603235 sigma=22693.867519282223\n"
     ]
    }
   ],
   "source": [
    "mu = E(X)\n",
    "sigma = Var(X)\n",
    "print (f\"mu = {mu} sigma={sigma}\")"
   ]
  },
  {
   "cell_type": "code",
   "execution_count": 45,
   "metadata": {},
   "outputs": [
    {
     "data": {
      "image/png": "[encoded data removed]",
      "text/plain": [
       "<Figure size 432x288 with 1 Axes>"
      ]
     },
     "metadata": {},
     "output_type": "display_data"
    }
   ],
   "source": [
    "count, bins, ignored  = plt.hist(X, max(X)-min(X), color='green')"
   ]
  },
  {
   "cell_type": "code",
   "execution_count": null,
   "metadata": {},
   "outputs": [],
   "source": []
  }
 ],
 "metadata": {
  "kernelspec": {
   "display_name": "challenges",
   "language": "python",
   "name": "challenges"
  },
  "language_info": {
   "codemirror_mode": {
    "name": "ipython",
    "version": 3
   },
   "file_extension": ".py",
   "mimetype": "text/x-python",
   "name": "python",
   "nbconvert_exporter": "python",
   "pygments_lexer": "ipython3",
   "version": "3.7.3"
  }
 },
 "nbformat": 4,
 "nbformat_minor": 2
}
